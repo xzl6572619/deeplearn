{
 "cells": [
  {
   "cell_type": "code",
   "execution_count": null,
   "metadata": {
    "ExecuteTime": {
     "end_time": "2023-07-31T09:45:07.026595Z",
     "start_time": "2023-07-31T09:45:06.406835Z"
    }
   },
   "outputs": [],
   "source": [
    "\n",
    "\n",
    "import time, datetime\n",
    "import threading\n",
    "\n",
    "from imp import reload\n",
    "import numpy as np\n",
    "import pandas as pd\n",
    "import math\n",
    "\n",
    "pd.set_option('display.max_rows',20)\n",
    "pd.set_option('display.max_columns',10)\n",
    "pd.set_option('display.width',100)\n",
    "pd.set_option('mode.chained_assignment',None)\n",
    "pd.set_option('display.precision',2)\n",
    "pd.set_option('display.float_format','{:,.2f}'.format)\n",
    "\n",
    "import matplotlib\n",
    "import matplotlib.pyplot as plt\n",
    "\n",
    "import os\n",
    "\n",
    "import utils\n",
    "import bkt_engine"
   ]
  },
  {
   "cell_type": "code",
   "execution_count": null,
   "metadata": {
    "ExecuteTime": {
     "end_time": "2023-07-31T09:45:10.049103Z",
     "start_time": "2023-07-31T09:45:10.044058Z"
    }
   },
   "outputs": [],
   "source": [
    "%matplotlib inline\n",
    "matplotlib.rcParams['figure.figsize'] = (20, 11.25)"
   ]
  },
  {
   "cell_type": "code",
   "execution_count": null,
   "metadata": {
    "ExecuteTime": {
     "end_time": "2023-07-31T09:46:55.226865Z",
     "start_time": "2023-07-31T09:45:10.823768Z"
    }
   },
   "outputs": [],
   "source": [
    "# 构造对象\n",
    "%time jsd = bkt_engine.AshareData()\n",
    "jsbkt = bkt_engine.Backtest(jsd)"
   ]
  },
  {
   "cell_type": "code",
   "execution_count": null,
   "metadata": {},
   "outputs": [],
   "source": [
    "score = pd.read_csv(r\"D:\\py\\平台回测demo\\score.csv\")\n",
    "jsd.capscore = jsd"
   ]
  },
  {
   "cell_type": "code",
   "execution_count": null,
   "metadata": {
    "ExecuteTime": {
     "end_time": "2023-07-31T09:47:13.228470Z",
     "start_time": "2023-07-31T09:46:55.229854Z"
    }
   },
   "outputs": [],
   "source": [
    "tpscore = utils.info_lag(1 - jsd.capscore, 1) # 按市值大小计算出score，小市值分数高\n",
    "jsd.exclude_neg_risk_new(tpscore)\n",
    "bkt_start = datetime.date(2021, 8, 1)\n",
    "(nav, pos_out, alpha_nav, result) = jsbkt.bkt_port(score=tpscore.loc[bkt_start:], fw=0.002, sw=1.02, dealprice='avg', vol_lim=0.05, trade_lim=0.35, port_val=10e8, dec_wr=0.996, bench='000905.SH')"
   ]
  },
  {
   "cell_type": "code",
   "execution_count": null,
   "metadata": {
    "ExecuteTime": {
     "end_time": "2023-07-31T09:47:35.182938Z",
     "start_time": "2023-07-31T09:47:13.228470Z"
    }
   },
   "outputs": [],
   "source": [
    "tpscore = utils.info_lag(1 - jsd.capscore, 1)\n",
    "tpscore_csi500 = jsd.bench_filter(tpscore, 905) # 只选择中证500成分股\n",
    "jsd.exclude_neg_risk_new(tpscore_csi500)\n",
    "bkt_start = datetime.date(2021, 1, 1)\n",
    "(nav, pos_out, alpha_nav, result) = jsbkt.bkt_port(score=tpscore_csi500.loc[bkt_start:], fw=0.01, sw=1.01, port_val=1e8, bench=905, vol_lim=0.05, trade_lim=0.25, dealprice='avg')"
   ]
  },
  {
   "cell_type": "code",
   "execution_count": null,
   "metadata": {},
   "outputs": [],
   "source": []
  },
  {
   "cell_type": "code",
   "execution_count": null,
   "metadata": {},
   "outputs": [],
   "source": []
  }
 ],
 "metadata": {
  "kernelspec": {
   "display_name": "Python 3",
   "language": "python",
   "name": "python3"
  },
  "language_info": {
   "codemirror_mode": {
    "name": "ipython",
    "version": 3
   },
   "file_extension": ".py",
   "mimetype": "text/x-python",
   "name": "python",
   "nbconvert_exporter": "python",
   "pygments_lexer": "ipython3",
   "version": "3.6.15"
  }
 },
 "nbformat": 4,
 "nbformat_minor": 2
}
